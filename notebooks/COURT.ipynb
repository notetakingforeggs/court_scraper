{
 "cells": [
  {
   "cell_type": "code",
   "execution_count": null,
   "metadata": {},
   "outputs": [],
   "source": [
    "%load_ext autoreload\n",
    "%autoreload 2"
   ]
  },
  {
   "cell_type": "code",
   "execution_count": null,
   "metadata": {},
   "outputs": [],
   "source": [
    "import sys\n",
    "sys.path.append('../src/')  \n",
    "from scraper.session import login\n",
    "from scraper.fetch import get_court_links\n",
    "from scraper.parser import parse_cases\n",
    "\n",
    "\n",
    "# getting court links doesnt need session as no log in... but it does want you to log in to view the deetts..\n",
    "links = get_court_links()\n",
    "# print(links)\n",
    "\n",
    "# logging in\n",
    "session = login()\n",
    "print(f\"cookies: {session.cookies}\")\n",
    "\n",
    "# parse cases using session data from login\n",
    "parse_cases(session, links)\n",
    "\n",
    "\n"
   ]
  }
 ],
 "metadata": {
  "kernelspec": {
   "display_name": "venv",
   "language": "python",
   "name": "python3"
  },
  "language_info": {
   "codemirror_mode": {
    "name": "ipython",
    "version": 3
   },
   "file_extension": ".py",
   "mimetype": "text/x-python",
   "name": "python",
   "nbconvert_exporter": "python",
   "pygments_lexer": "ipython3",
   "version": "3.10.12"
  }
 },
 "nbformat": 4,
 "nbformat_minor": 2
}
