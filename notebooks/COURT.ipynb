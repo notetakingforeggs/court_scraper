{
 "cells": [
  {
   "cell_type": "code",
   "execution_count": 1,
   "metadata": {},
   "outputs": [],
   "source": [
    "%load_ext autoreload\n",
    "%autoreload 2"
   ]
  },
  {
   "cell_type": "code",
   "execution_count": 2,
   "metadata": {},
   "outputs": [
    {
     "name": "stdout",
     "output_type": "stream",
     "text": [
      "getting court links\n",
      "username: analogue1@live.com, password: xtmpw463\n",
      "Status Code: 302\n",
      "Final URL: https://courtserve.net/\n",
      "session cookies: <RequestsCookieJar[<Cookie SITELOKPW=cjV6cEpPQldGNDlRK3BHcWhiYXFNdjZscUZJQ0cwRytTcG5TdkVvPQ%3D%3D for .courtserve.net/>, <Cookie PHPSESSID=5e0f17230a5669a15041a509892563c43773c490 for courtserve.net/>]>\n",
      "probs logged in\n",
      " extracted Aldershot & Farnham from the court name\n",
      "1 hour\n",
      " extracted Barnet from the court name\n",
      "2\n",
      "    hours\n",
      " extracted Barnsley from the court name\n",
      "1\n",
      "    hour\n",
      "30     minutes\n",
      "6\n",
      "    hours\n",
      " extracted Basildon from the court name\n"
     ]
    },
    {
     "ename": "IndexError",
     "evalue": "list index out of range",
     "output_type": "error",
     "traceback": [
      "\u001b[0;31m---------------------------------------------------------------------------\u001b[0m",
      "\u001b[0;31mIndexError\u001b[0m                                Traceback (most recent call last)",
      "Cell \u001b[0;32mIn[2], line 25\u001b[0m\n\u001b[1;32m     23\u001b[0m courtScraoer\u001b[38;5;241m.\u001b[39mget_case_list_soup()\n\u001b[1;32m     24\u001b[0m courtScraoer\u001b[38;5;241m.\u001b[39mextract_city_and_court_name()\n\u001b[0;32m---> 25\u001b[0m \u001b[43mcourtScraoer\u001b[49m\u001b[38;5;241;43m.\u001b[39;49m\u001b[43mget_cleaned_row_texts\u001b[49m\u001b[43m(\u001b[49m\u001b[43m)\u001b[49m\n",
      "File \u001b[0;32m~/development/code/whitechapel_advice/court_scraper/notebooks/../src/scraper/court_scraper.py:87\u001b[0m, in \u001b[0;36mCourtScraper.get_cleaned_row_texts\u001b[0;34m(self)\u001b[0m\n\u001b[1;32m     86\u001b[0m \u001b[38;5;28;01mdef\u001b[39;00m\u001b[38;5;250m \u001b[39m\u001b[38;5;21mget_cleaned_row_texts\u001b[39m(\u001b[38;5;28mself\u001b[39m):\n\u001b[0;32m---> 87\u001b[0m     raw \u001b[38;5;241m=\u001b[39m \u001b[38;5;28;43mself\u001b[39;49m\u001b[38;5;241;43m.\u001b[39;49m\u001b[43m_extract_case_rows\u001b[49m\u001b[43m(\u001b[49m\u001b[43m)\u001b[49m\n\u001b[1;32m     88\u001b[0m     \u001b[38;5;66;03m# clean = self._clean_row_texts(raw)\u001b[39;00m\n\u001b[1;32m     89\u001b[0m     \u001b[38;5;66;03m# return clean\u001b[39;00m\n\u001b[1;32m     90\u001b[0m     \u001b[38;5;28;01mpass\u001b[39;00m\n",
      "File \u001b[0;32m~/development/code/whitechapel_advice/court_scraper/notebooks/../src/scraper/court_scraper.py:80\u001b[0m, in \u001b[0;36mCourtScraper._extract_case_rows\u001b[0;34m(self)\u001b[0m\n\u001b[1;32m     77\u001b[0m     \u001b[38;5;66;03m# print(f\"case nø {case_count}: {texts}\")\u001b[39;00m\n\u001b[1;32m     78\u001b[0m     case_count \u001b[38;5;241m+\u001b[39m\u001b[38;5;241m=\u001b[39m \u001b[38;5;241m1\u001b[39m \n\u001b[0;32m---> 80\u001b[0m \u001b[38;5;28mprint\u001b[39m(\u001b[43mrow_texts_messy\u001b[49m\u001b[43m[\u001b[49m\u001b[38;5;241;43m0\u001b[39;49m\u001b[43m]\u001b[49m[\u001b[38;5;241m3\u001b[39m])\n\u001b[1;32m     81\u001b[0m \u001b[38;5;28;01mreturn\u001b[39;00m row_texts_messy\n",
      "\u001b[0;31mIndexError\u001b[0m: list index out of range"
     ]
    }
   ],
   "source": [
    "import sys\n",
    "sys.path.append('../src/')  \n",
    "from scraper.session import login, BASE_URL\n",
    "from scraper.fetch import get_court_links\n",
    "# from scraper.parser import parse_cases\n",
    "from scraper.court_scraper import CourtScraper\n",
    "\n",
    "\n",
    "\n",
    "# getting court links doesnt need session as no log in... but it does want you to log in to view the deetts..\n",
    "links = get_court_links()\n",
    "# print(links)\n",
    "\n",
    "# logging in\n",
    "session = login()      \n",
    "\n",
    "\n",
    "# parse cases using session data from login\n",
    "# parse_cases(session, links)\n",
    "for link in links:\n",
    "    courtScraoer = CourtScraper(session, BASE_URL + link)\n",
    "    courtScraoer.load_case_page()\n",
    "    courtScraoer.get_case_list_soup()\n",
    "    courtScraoer.extract_city_and_court_name()\n",
    "    courtScraoer.get_cleaned_row_texts()\n",
    "\n",
    "\n",
    "\n",
    "\n"
   ]
  }
 ],
 "metadata": {
  "kernelspec": {
   "display_name": "venv",
   "language": "python",
   "name": "python3"
  },
  "language_info": {
   "codemirror_mode": {
    "name": "ipython",
    "version": 3
   },
   "file_extension": ".py",
   "mimetype": "text/x-python",
   "name": "python",
   "nbconvert_exporter": "python",
   "pygments_lexer": "ipython3",
   "version": "3.10.12"
  }
 },
 "nbformat": 4,
 "nbformat_minor": 2
}
