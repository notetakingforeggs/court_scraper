{
 "cells": [
  {
   "cell_type": "code",
   "execution_count": null,
   "metadata": {},
   "outputs": [],
   "source": [
    "%load_ext autoreload\n",
    "%autoreload 2"
   ]
  },
  {
   "cell_type": "code",
   "execution_count": null,
   "metadata": {},
   "outputs": [],
   "source": [
    "import sys\n",
    "sys.path.append('../src/')  \n",
    "from scraper.session import login, BASE_URL\n",
    "from scraper.fetch import get_court_links\n",
    "# from scraper.parser import parse_cases\n",
    "from scraper.court_scraper import CourtScraper\n",
    "\n",
    "from db.db_methods import get_connection, get_court_id_by_city, insert_court_case\n",
    "from db.models import CourtCase\n",
    "\n",
    "\n",
    "\n",
    "# getting court links doesnt need session as no log in... but it does want you to log in to view the deetts..\n",
    "links = get_court_links()\n",
    "# print(links)\n",
    "\n",
    "# logging in\n",
    "session = login()      \n",
    "\n",
    "# get db connection\n",
    "get_connection()\n",
    "\n",
    "# parse cases using session data from login\n",
    "# parse_cases(session, links)\n",
    "for link in links:\n",
    "    courtScraoer = CourtScraper(session, BASE_URL + link)\n",
    "    courtScraoer.load_case_page()\n",
    "    courtScraoer.get_case_list_soup()\n",
    "    courtScraoer.extract_city_and_court_name()\n",
    "    court_cases = courtScraoer.rows_to_objects()\n",
    "    if not court_cases:\n",
    "        continue\n",
    "    for case in court_cases:\n",
    "        print(case.city)\n",
    "        court_id = get_court_id_by_city(case.city)\n",
    "        if not court_id:\n",
    "            print(f\"{case.city} seems not to have corresponding id?\")\n",
    "            continue \n",
    "        insert_court_case(case, court_id)\n",
    "\n",
    "# populate db\n",
    "\n",
    "\n",
    "\n"
   ]
  }
 ],
 "metadata": {
  "kernelspec": {
   "display_name": "venv",
   "language": "python",
   "name": "python3"
  },
  "language_info": {
   "codemirror_mode": {
    "name": "ipython",
    "version": 3
   },
   "file_extension": ".py",
   "mimetype": "text/x-python",
   "name": "python",
   "nbconvert_exporter": "python",
   "pygments_lexer": "ipython3",
   "version": "3.10.12"
  }
 },
 "nbformat": 4,
 "nbformat_minor": 2
}
