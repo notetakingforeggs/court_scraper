{
 "cells": [
  {
   "cell_type": "code",
   "execution_count": 1,
   "metadata": {},
   "outputs": [],
   "source": [
    "%load_ext autoreload\n",
    "%autoreload 2"
   ]
  },
  {
   "cell_type": "code",
   "execution_count": 2,
   "metadata": {},
   "outputs": [
    {
     "name": "stdout",
     "output_type": "stream",
     "text": [
      "getting court links\n"
     ]
    }
   ],
   "source": [
    "import sys\n",
    "sys.path.append('../src/')  \n",
    "from scraper.session import login, BASE_URL\n",
    "from scraper.fetch import get_court_links_and_dates\n",
    "# from scraper.parser import parse_cases\n",
    "from scraper.court_scraper import CourtScraper\n",
    "\n",
    "from db.db_methods import get_connection, get_court_id_by_city, insert_court_case\n",
    "from db.models import CourtCase\n",
    "\n",
    "\n",
    "\n",
    "# getting court links doesnt need session as no log in... but it does want you to log in to view the deetts..\n",
    "links_and_dates = get_court_links_and_dates()\n"
   ]
  },
  {
   "cell_type": "code",
   "execution_count": 3,
   "metadata": {},
   "outputs": [
    {
     "name": "stdout",
     "output_type": "stream",
     "text": [
      "Status Code: 302\n",
      "Final URL: https://courtserve.net/\n",
      "session cookies: <RequestsCookieJar[<Cookie SITELOKPW=cjV6cEpPQldGNDlRK3BHcWhiYXFNdjZscUZJQ0cwRytTcG5TdkVvPQ%3D%3D for .courtserve.net/>, <Cookie PHPSESSID=7af0ed6accb9c19e125877c12ac0b7f44a9149c0 for courtserve.net/>]>\n",
      "probs logged in\n"
     ]
    }
   ],
   "source": [
    "\n",
    "# logging in\n",
    "session = login()      \n",
    "\n",
    "\n",
    "\n"
   ]
  },
  {
   "cell_type": "code",
   "execution_count": 4,
   "metadata": {},
   "outputs": [
    {
     "data": {
      "text/plain": [
       "<connection object at 0x7d98241a6fc0; dsn: 'user=jonah password=xxx dbname=courtdb_dev host=localhost port=65432', closed: 0>"
      ]
     },
     "execution_count": 4,
     "metadata": {},
     "output_type": "execute_result"
    }
   ],
   "source": [
    "# get db connection\n",
    "get_connection()\n"
   ]
  },
  {
   "cell_type": "code",
   "execution_count": null,
   "metadata": {},
   "outputs": [
    {
     "name": "stdout",
     "output_type": "stream",
     "text": [
      "In  the  County Court and the Family     Court at Aldershot & Farnham\n",
      "Aldershot & Farnham\n",
      "In  the  County Court and the Family     Court at Aldershot & Farnham\n",
      "Aldershot & Farnham\n",
      "Barnet County Court sitting at the Royal Courts of Justice\n",
      "Barnet\n",
      "Barnet County Court sitting at First Avenue House\n",
      "Barnet\n",
      "Barnsley Law Courts\n",
      "Barnsley\n",
      "Barnsley Law Courts\n",
      "Barnsley\n",
      "In The County Court and The Family Court at Barnstaple\n",
      "None\n",
      "Barrow Law Courts\n",
      "None\n",
      "Barrow Law Courts\n",
      "None\n",
      "Barrow Law Courts\n",
      "None\n",
      "In  the  County Court and the Family Court at Basildon\n",
      "Basildon\n",
      "In  the  County Court and the Family Court at Basildon\n",
      "Basildon\n",
      "In  the  County Court and the Family Court at Basildon\n",
      "Basildon\n",
      "Basildon Combined Court\n",
      "Basildon\n",
      "Basingstoke Magistrates and County Court\n",
      "Basingstoke\n",
      "Basingstoke Magistrates and County Court\n",
      "Basingstoke\n",
      "In the County Court at Bath\n",
      "Bath\n",
      "In the County Court at Bath\n",
      "Bath\n"
     ]
    }
   ],
   "source": [
    "\n",
    "for i, (link, date) in enumerate (links_and_dates):\n",
    "    if i < 2:\n",
    "        continue\n",
    "    courtScraper = CourtScraper(session, BASE_URL + link)\n",
    "    if not courtScraper.load_case_page():\n",
    "        print(f\"struggle to find 'new tab url' for {link}\")\n",
    "        continue\n",
    "    courtScraper.get_case_list_soup()\n",
    "    courtScraper.extract_city_and_court_name()\n",
    "    court_cases = courtScraper.rows_to_objects(date)\n",
    "    if not court_cases:\n",
    "        continue\n",
    "    for case in court_cases: # iterate through scraped court cases and add to db\n",
    "        court_id = get_court_id_by_city(case.city)\n",
    "        if not court_id and case.city:\n",
    "            print(f\"no court id for {case.city}\")\n",
    "            continue \n",
    "        insert_court_case(case, court_id)\n"
   ]
  }
 ],
 "metadata": {
  "kernelspec": {
   "display_name": "venv",
   "language": "python",
   "name": "python3"
  },
  "language_info": {
   "codemirror_mode": {
    "name": "ipython",
    "version": 3
   },
   "file_extension": ".py",
   "mimetype": "text/x-python",
   "name": "python",
   "nbconvert_exporter": "python",
   "pygments_lexer": "ipython3",
   "version": "3.10.12"
  }
 },
 "nbformat": 4,
 "nbformat_minor": 2
}
